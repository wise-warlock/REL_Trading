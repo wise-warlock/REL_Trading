{
 "cells": [
  {
   "cell_type": "code",
   "execution_count": 4,
   "id": "cee0fdbd",
   "metadata": {},
   "outputs": [
    {
     "name": "stderr",
     "output_type": "stream",
     "text": [
      "\n",
      "[notice] A new release of pip is available: 24.2 -> 25.1.1\n",
      "[notice] To update, run: python.exe -m pip install --upgrade pip\n",
      "Exception ignored in: <_io.FileIO name=3 mode='wb' closefd=True>\n",
      "Traceback (most recent call last):\n",
      "  File \"c:\\Users\\Hi\\anaconda3\\envs\\all\\Lib\\site-packages\\IPython\\utils\\_process_win32.py\", line 124, in system\n",
      "    return process_handler(cmd, _system_body)\n",
      "           ^^^^^^^^^^^^^^^^^^^^^^^^^^^^^^^^^^\n",
      "ResourceWarning: unclosed file <_io.BufferedWriter name=3>\n",
      "Exception ignored in: <_io.FileIO name=4 mode='rb' closefd=True>\n",
      "Traceback (most recent call last):\n",
      "  File \"c:\\Users\\Hi\\anaconda3\\envs\\all\\Lib\\site-packages\\IPython\\utils\\_process_win32.py\", line 124, in system\n",
      "    return process_handler(cmd, _system_body)\n",
      "           ^^^^^^^^^^^^^^^^^^^^^^^^^^^^^^^^^^\n",
      "ResourceWarning: unclosed file <_io.BufferedReader name=4>\n",
      "Exception ignored in: <_io.FileIO name=5 mode='rb' closefd=True>\n",
      "Traceback (most recent call last):\n",
      "  File \"c:\\Users\\Hi\\anaconda3\\envs\\all\\Lib\\site-packages\\IPython\\utils\\_process_win32.py\", line 124, in system\n",
      "    return process_handler(cmd, _system_body)\n",
      "           ^^^^^^^^^^^^^^^^^^^^^^^^^^^^^^^^^^\n",
      "ResourceWarning: unclosed file <_io.BufferedReader name=5>\n"
     ]
    },
    {
     "name": "stdout",
     "output_type": "stream",
     "text": [
      "Requirement already satisfied: gym in c:\\users\\hi\\anaconda3\\envs\\all\\lib\\site-packages (0.26.2)\n",
      "Requirement already satisfied: gym-trading-env in c:\\users\\hi\\anaconda3\\envs\\all\\lib\\site-packages (0.3.5)\n",
      "Requirement already satisfied: stable-baselines3 in c:\\users\\hi\\anaconda3\\envs\\all\\lib\\site-packages (2.6.0)\n",
      "Requirement already satisfied: numpy>=1.18.0 in c:\\users\\hi\\anaconda3\\envs\\all\\lib\\site-packages (from gym) (1.24.4)\n",
      "Requirement already satisfied: cloudpickle>=1.2.0 in c:\\users\\hi\\anaconda3\\envs\\all\\lib\\site-packages (from gym) (3.0.0)\n",
      "Requirement already satisfied: gym-notices>=0.0.4 in c:\\users\\hi\\anaconda3\\envs\\all\\lib\\site-packages (from gym) (0.0.8)\n",
      "Requirement already satisfied: pandas>=1.5.3 in c:\\users\\hi\\anaconda3\\envs\\all\\lib\\site-packages (from gym-trading-env) (2.2.2)\n",
      "Requirement already satisfied: gymnasium>=0.28.1 in c:\\users\\hi\\anaconda3\\envs\\all\\lib\\site-packages (from gym-trading-env) (1.1.1)\n",
      "Requirement already satisfied: flask==2.2.5 in c:\\users\\hi\\anaconda3\\envs\\all\\lib\\site-packages (from gym-trading-env) (2.2.5)\n",
      "Requirement already satisfied: pyecharts>=2.0.2 in c:\\users\\hi\\anaconda3\\envs\\all\\lib\\site-packages (from gym-trading-env) (2.0.8)\n",
      "Requirement already satisfied: ccxt==3.0.59 in c:\\users\\hi\\anaconda3\\envs\\all\\lib\\site-packages (from gym-trading-env) (3.0.59)\n",
      "Requirement already satisfied: nest_asyncio in c:\\users\\hi\\anaconda3\\envs\\all\\lib\\site-packages (from gym-trading-env) (1.6.0)\n",
      "Requirement already satisfied: setuptools>=60.9.0 in c:\\users\\hi\\anaconda3\\envs\\all\\lib\\site-packages (from ccxt==3.0.59->gym-trading-env) (75.1.0)\n",
      "Requirement already satisfied: certifi>=2018.1.18 in c:\\users\\hi\\anaconda3\\envs\\all\\lib\\site-packages (from ccxt==3.0.59->gym-trading-env) (2024.7.4)\n",
      "Requirement already satisfied: requests>=2.18.4 in c:\\users\\hi\\anaconda3\\envs\\all\\lib\\site-packages (from ccxt==3.0.59->gym-trading-env) (2.32.3)\n",
      "Requirement already satisfied: cryptography>=2.6.1 in c:\\users\\hi\\anaconda3\\envs\\all\\lib\\site-packages (from ccxt==3.0.59->gym-trading-env) (45.0.3)\n",
      "Requirement already satisfied: aiohttp>=3.8 in c:\\users\\hi\\anaconda3\\envs\\all\\lib\\site-packages (from ccxt==3.0.59->gym-trading-env) (3.10.3)\n",
      "Requirement already satisfied: aiodns>=1.1.1 in c:\\users\\hi\\anaconda3\\envs\\all\\lib\\site-packages (from ccxt==3.0.59->gym-trading-env) (3.5.0)\n",
      "Requirement already satisfied: yarl>=1.7.2 in c:\\users\\hi\\anaconda3\\envs\\all\\lib\\site-packages (from ccxt==3.0.59->gym-trading-env) (1.9.4)\n",
      "Requirement already satisfied: Werkzeug>=2.2.2 in c:\\users\\hi\\anaconda3\\envs\\all\\lib\\site-packages (from flask==2.2.5->gym-trading-env) (3.1.3)\n",
      "Requirement already satisfied: Jinja2>=3.0 in c:\\users\\hi\\anaconda3\\envs\\all\\lib\\site-packages (from flask==2.2.5->gym-trading-env) (3.1.4)\n",
      "Requirement already satisfied: itsdangerous>=2.0 in c:\\users\\hi\\anaconda3\\envs\\all\\lib\\site-packages (from flask==2.2.5->gym-trading-env) (2.2.0)\n",
      "Requirement already satisfied: click>=8.0 in c:\\users\\hi\\anaconda3\\envs\\all\\lib\\site-packages (from flask==2.2.5->gym-trading-env) (8.1.7)\n",
      "Requirement already satisfied: torch<3.0,>=2.3 in c:\\users\\hi\\anaconda3\\envs\\all\\lib\\site-packages (from stable-baselines3) (2.4.1)\n",
      "Requirement already satisfied: matplotlib in c:\\users\\hi\\anaconda3\\envs\\all\\lib\\site-packages (from stable-baselines3) (3.9.1)\n",
      "Requirement already satisfied: typing-extensions>=4.3.0 in c:\\users\\hi\\anaconda3\\envs\\all\\lib\\site-packages (from gymnasium>=0.28.1->gym-trading-env) (4.12.2)\n",
      "Requirement already satisfied: farama-notifications>=0.0.1 in c:\\users\\hi\\anaconda3\\envs\\all\\lib\\site-packages (from gymnasium>=0.28.1->gym-trading-env) (0.0.4)\n",
      "Requirement already satisfied: python-dateutil>=2.8.2 in c:\\users\\hi\\anaconda3\\envs\\all\\lib\\site-packages (from pandas>=1.5.3->gym-trading-env) (2.9.0)\n",
      "Requirement already satisfied: pytz>=2020.1 in c:\\users\\hi\\anaconda3\\envs\\all\\lib\\site-packages (from pandas>=1.5.3->gym-trading-env) (2024.1)\n",
      "Requirement already satisfied: tzdata>=2022.7 in c:\\users\\hi\\anaconda3\\envs\\all\\lib\\site-packages (from pandas>=1.5.3->gym-trading-env) (2024.1)\n",
      "Requirement already satisfied: prettytable in c:\\users\\hi\\anaconda3\\envs\\all\\lib\\site-packages (from pyecharts>=2.0.2->gym-trading-env) (3.16.0)\n",
      "Requirement already satisfied: simplejson in c:\\users\\hi\\anaconda3\\envs\\all\\lib\\site-packages (from pyecharts>=2.0.2->gym-trading-env) (3.20.1)\n",
      "Requirement already satisfied: filelock in c:\\users\\hi\\anaconda3\\envs\\all\\lib\\site-packages (from torch<3.0,>=2.3->stable-baselines3) (3.15.4)\n",
      "Requirement already satisfied: sympy in c:\\users\\hi\\anaconda3\\envs\\all\\lib\\site-packages (from torch<3.0,>=2.3->stable-baselines3) (1.13.0)\n",
      "Requirement already satisfied: networkx in c:\\users\\hi\\anaconda3\\envs\\all\\lib\\site-packages (from torch<3.0,>=2.3->stable-baselines3) (3.3)\n",
      "Requirement already satisfied: fsspec in c:\\users\\hi\\anaconda3\\envs\\all\\lib\\site-packages (from torch<3.0,>=2.3->stable-baselines3) (2024.6.1)\n",
      "Requirement already satisfied: contourpy>=1.0.1 in c:\\users\\hi\\anaconda3\\envs\\all\\lib\\site-packages (from matplotlib->stable-baselines3) (1.2.1)\n",
      "Requirement already satisfied: cycler>=0.10 in c:\\users\\hi\\anaconda3\\envs\\all\\lib\\site-packages (from matplotlib->stable-baselines3) (0.12.1)\n",
      "Requirement already satisfied: fonttools>=4.22.0 in c:\\users\\hi\\anaconda3\\envs\\all\\lib\\site-packages (from matplotlib->stable-baselines3) (4.53.1)\n",
      "Requirement already satisfied: kiwisolver>=1.3.1 in c:\\users\\hi\\anaconda3\\envs\\all\\lib\\site-packages (from matplotlib->stable-baselines3) (1.4.5)\n",
      "Requirement already satisfied: packaging>=20.0 in c:\\users\\hi\\anaconda3\\envs\\all\\lib\\site-packages (from matplotlib->stable-baselines3) (24.1)\n",
      "Requirement already satisfied: pillow>=8 in c:\\users\\hi\\anaconda3\\envs\\all\\lib\\site-packages (from matplotlib->stable-baselines3) (10.4.0)\n",
      "Requirement already satisfied: pyparsing>=2.3.1 in c:\\users\\hi\\anaconda3\\envs\\all\\lib\\site-packages (from matplotlib->stable-baselines3) (3.1.2)\n",
      "Requirement already satisfied: pycares>=4.9.0 in c:\\users\\hi\\anaconda3\\envs\\all\\lib\\site-packages (from aiodns>=1.1.1->ccxt==3.0.59->gym-trading-env) (4.9.0)\n",
      "Requirement already satisfied: aiohappyeyeballs>=2.3.0 in c:\\users\\hi\\anaconda3\\envs\\all\\lib\\site-packages (from aiohttp>=3.8->ccxt==3.0.59->gym-trading-env) (2.3.6)\n",
      "Requirement already satisfied: aiosignal>=1.1.2 in c:\\users\\hi\\anaconda3\\envs\\all\\lib\\site-packages (from aiohttp>=3.8->ccxt==3.0.59->gym-trading-env) (1.3.1)\n",
      "Requirement already satisfied: attrs>=17.3.0 in c:\\users\\hi\\anaconda3\\envs\\all\\lib\\site-packages (from aiohttp>=3.8->ccxt==3.0.59->gym-trading-env) (24.2.0)\n",
      "Requirement already satisfied: frozenlist>=1.1.1 in c:\\users\\hi\\anaconda3\\envs\\all\\lib\\site-packages (from aiohttp>=3.8->ccxt==3.0.59->gym-trading-env) (1.4.1)\n",
      "Requirement already satisfied: multidict<7.0,>=4.5 in c:\\users\\hi\\anaconda3\\envs\\all\\lib\\site-packages (from aiohttp>=3.8->ccxt==3.0.59->gym-trading-env) (6.0.5)\n",
      "Requirement already satisfied: colorama in c:\\users\\hi\\anaconda3\\envs\\all\\lib\\site-packages (from click>=8.0->flask==2.2.5->gym-trading-env) (0.4.6)\n",
      "Requirement already satisfied: cffi>=1.14 in c:\\users\\hi\\anaconda3\\envs\\all\\lib\\site-packages (from cryptography>=2.6.1->ccxt==3.0.59->gym-trading-env) (1.17.1)\n",
      "Requirement already satisfied: MarkupSafe>=2.0 in c:\\users\\hi\\anaconda3\\envs\\all\\lib\\site-packages (from Jinja2>=3.0->flask==2.2.5->gym-trading-env) (2.1.5)\n",
      "Requirement already satisfied: six>=1.5 in c:\\users\\hi\\anaconda3\\envs\\all\\lib\\site-packages (from python-dateutil>=2.8.2->pandas>=1.5.3->gym-trading-env) (1.16.0)\n",
      "Requirement already satisfied: charset-normalizer<4,>=2 in c:\\users\\hi\\anaconda3\\envs\\all\\lib\\site-packages (from requests>=2.18.4->ccxt==3.0.59->gym-trading-env) (3.3.2)\n",
      "Requirement already satisfied: idna<4,>=2.5 in c:\\users\\hi\\anaconda3\\envs\\all\\lib\\site-packages (from requests>=2.18.4->ccxt==3.0.59->gym-trading-env) (3.7)\n",
      "Requirement already satisfied: urllib3<3,>=1.21.1 in c:\\users\\hi\\anaconda3\\envs\\all\\lib\\site-packages (from requests>=2.18.4->ccxt==3.0.59->gym-trading-env) (2.2.2)\n",
      "Requirement already satisfied: wcwidth in c:\\users\\hi\\anaconda3\\envs\\all\\lib\\site-packages (from prettytable->pyecharts>=2.0.2->gym-trading-env) (0.2.13)\n",
      "Requirement already satisfied: mpmath<1.4,>=1.1.0 in c:\\users\\hi\\anaconda3\\envs\\all\\lib\\site-packages (from sympy->torch<3.0,>=2.3->stable-baselines3) (1.3.0)\n",
      "Requirement already satisfied: pycparser in c:\\users\\hi\\anaconda3\\envs\\all\\lib\\site-packages (from cffi>=1.14->cryptography>=2.6.1->ccxt==3.0.59->gym-trading-env) (2.22)\n"
     ]
    }
   ],
   "source": [
    "!pip install gym gym-trading-env stable-baselines3"
   ]
  },
  {
   "cell_type": "code",
   "execution_count": 1,
   "id": "b78ee5f0",
   "metadata": {},
   "outputs": [],
   "source": [
    "import pandas as pd\n",
    "\n",
    "# Load the data\n",
    "df = pd.read_csv(\"stock.csv\")\n",
    "\n",
    "# Sort by date just in case\n",
    "df = df.sort_values(\"Date\")\n",
    "\n",
    "# We'll use 'Adj Close' for price\n",
    "df = df[[\"Date\", \"Adj Close\"]]\n",
    "df.rename(columns={\"Adj Close\": \"price\"}, inplace=True)\n",
    "\n",
    "# Save for the gym_trading_env to use\n",
    "df.to_csv(\"processed_stock.csv\", index=False)\n"
   ]
  },
  {
   "cell_type": "code",
   "execution_count": 2,
   "id": "a244ba46",
   "metadata": {},
   "outputs": [
    {
     "ename": "TypeError",
     "evalue": "TradingEnv.__init__() got an unexpected keyword argument 'df_path'",
     "output_type": "error",
     "traceback": [
      "\u001b[1;31m---------------------------------------------------------------------------\u001b[0m",
      "\u001b[1;31mTypeError\u001b[0m                                 Traceback (most recent call last)",
      "Cell \u001b[1;32mIn[2], line 5\u001b[0m\n\u001b[0;32m      2\u001b[0m \u001b[38;5;28;01mfrom\u001b[39;00m \u001b[38;5;21;01mgym_trading_env\u001b[39;00m\u001b[38;5;21;01m.\u001b[39;00m\u001b[38;5;21;01menvironments\u001b[39;00m \u001b[38;5;28;01mimport\u001b[39;00m TradingEnv\n\u001b[0;32m      4\u001b[0m \u001b[38;5;66;03m# Load the environment with the CSV\u001b[39;00m\n\u001b[1;32m----> 5\u001b[0m env \u001b[38;5;241m=\u001b[39m \u001b[43mTradingEnv\u001b[49m\u001b[43m(\u001b[49m\u001b[43mdf_path\u001b[49m\u001b[38;5;241;43m=\u001b[39;49m\u001b[38;5;124;43m\"\u001b[39;49m\u001b[38;5;124;43mprocessed_stock.csv\u001b[39;49m\u001b[38;5;124;43m\"\u001b[39;49m\u001b[43m,\u001b[49m\u001b[43m \u001b[49m\n\u001b[0;32m      6\u001b[0m \u001b[43m                 \u001b[49m\u001b[43mwindow_size\u001b[49m\u001b[38;5;241;43m=\u001b[39;49m\u001b[38;5;241;43m10\u001b[39;49m\u001b[43m,\u001b[49m\u001b[43m \u001b[49m\n\u001b[0;32m      7\u001b[0m \u001b[43m                 \u001b[49m\u001b[43mframe_bound\u001b[49m\u001b[38;5;241;43m=\u001b[39;49m\u001b[43m(\u001b[49m\u001b[38;5;241;43m10\u001b[39;49m\u001b[43m,\u001b[49m\u001b[43m \u001b[49m\u001b[38;5;28;43mlen\u001b[39;49m\u001b[43m(\u001b[49m\u001b[43mdf\u001b[49m\u001b[43m)\u001b[49m\u001b[43m)\u001b[49m\u001b[43m)\u001b[49m\n\u001b[0;32m      9\u001b[0m \u001b[38;5;66;03m# Test a single episode run with random actions\u001b[39;00m\n\u001b[0;32m     10\u001b[0m obs \u001b[38;5;241m=\u001b[39m env\u001b[38;5;241m.\u001b[39mreset()\n",
      "\u001b[1;31mTypeError\u001b[0m: TradingEnv.__init__() got an unexpected keyword argument 'df_path'"
     ]
    }
   ],
   "source": [
    "import gym\n",
    "from gym_trading_env.environments import TradingEnv\n",
    "\n",
    "# Load the environment with the CSV\n",
    "env = TradingEnv(df_path=\"processed_stock.csv\", \n",
    "                 window_size=10, \n",
    "                 frame_bound=(10, len(df)))\n",
    "\n",
    "# Test a single episode run with random actions\n",
    "obs = env.reset()\n",
    "done = False\n",
    "while not done:\n",
    "    action = env.action_space.sample()  # Random action: 0 = hold, 1 = buy, 2 = sell\n",
    "    obs, reward, done, info = env.step(action)\n",
    "\n",
    "# Print final portfolio value\n",
    "print(f\"Final reward (portfolio value): {info['total_reward']}\")\n"
   ]
  }
 ],
 "metadata": {
  "kernelspec": {
   "display_name": "all",
   "language": "python",
   "name": "python3"
  },
  "language_info": {
   "codemirror_mode": {
    "name": "ipython",
    "version": 3
   },
   "file_extension": ".py",
   "mimetype": "text/x-python",
   "name": "python",
   "nbconvert_exporter": "python",
   "pygments_lexer": "ipython3",
   "version": "3.11.9"
  }
 },
 "nbformat": 4,
 "nbformat_minor": 5
}
